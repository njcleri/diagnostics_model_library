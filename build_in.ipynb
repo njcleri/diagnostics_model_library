{
 "cells": [
  {
   "cell_type": "code",
   "execution_count": 1,
   "metadata": {},
   "outputs": [
    {
     "name": "stdout",
     "output_type": "stream",
     "text": [
      "Folder ./models/v0.3 created!\n"
     ]
    }
   ],
   "source": [
    "import itertools\n",
    "import glob\n",
    "import numpy as np  \n",
    "\n",
    "from nikkos_tools.cloudy_tools import cloudy_input_builder as cib\n",
    "from nikkos_tools.cloudy_tools import cloudy_slurm_builder as csb \n",
    "from nikkos_tools import miscellaneous_functions as mf\n",
    "\n",
    "MODEL_PATH = mf.make_directories('./models/v0.3')"
   ]
  },
  {
   "cell_type": "code",
   "execution_count": 3,
   "metadata": {},
   "outputs": [],
   "source": [
    "bpass_z_abs = np.array([0.00001, 0.0001, 0.001, 0.002, 0.003, 0.004, 0.005, 0.006, 0.008, 0.010, 0.014, 0.020, 0.040])\n",
    "bpass_z_sol = bpass_z_abs * 50\n",
    "bpass_ages = 10**np.arange(6.0, 11.1, 0.1)\n",
    "log_bpass_ages = np.log10(bpass_ages)"
   ]
  },
  {
   "cell_type": "code",
   "execution_count": 12,
   "metadata": {},
   "outputs": [],
   "source": [
    "logU = np.arange(-4, -0.75, 0.25)\n",
    "z_gas = bpass_z_sol[0]\n",
    "z_star = z_gas\n",
    "age = bpass_ages[1]\n",
    "\n",
    "# for U in logU: \n",
    "#     stars = cib.CloudyModel()\n",
    "#     stars.build_template_model_bpass(gas_metallicity=z_gas, stellar_metallicity=z_star, age=age, logU=U)\n",
    "#     stars.make_cloudy_in_file(path=MODEL_PATH)"
   ]
  },
  {
   "cell_type": "code",
   "execution_count": 13,
   "metadata": {},
   "outputs": [
    {
     "data": {
      "text/plain": [
       "1258925.411794166"
      ]
     },
     "execution_count": 13,
     "metadata": {},
     "output_type": "execute_result"
    }
   ],
   "source": [
    "age"
   ]
  },
  {
   "cell_type": "code",
   "execution_count": null,
   "metadata": {},
   "outputs": [],
   "source": [
    "fnames = glob.glob(f'{MODEL_PATH}/**.in')\n",
    "filenames = []\n",
    "for i,file in enumerate(fnames):\n",
    "    filenames.append(file.lstrip(f'{MODEL_PATH}').rstrip('.in'))"
   ]
  },
  {
   "cell_type": "code",
   "execution_count": null,
   "metadata": {},
   "outputs": [],
   "source": [
    "job_name='bpass_test'\n",
    "cloudy = csb.CloudySlurm()\n",
    "cloudy.build_default_slurm(job_name=job_name, output=job_name, time='02:00:00', cloudy_input=filenames, email='cleri@tamu.edu')\n",
    "cloudy.make_slurm(MODEL_PATH)"
   ]
  }
 ],
 "metadata": {
  "kernelspec": {
   "display_name": "base",
   "language": "python",
   "name": "python3"
  },
  "language_info": {
   "codemirror_mode": {
    "name": "ipython",
    "version": 3
   },
   "file_extension": ".py",
   "mimetype": "text/x-python",
   "name": "python",
   "nbconvert_exporter": "python",
   "pygments_lexer": "ipython3",
   "version": "3.10.9"
  }
 },
 "nbformat": 4,
 "nbformat_minor": 2
}
