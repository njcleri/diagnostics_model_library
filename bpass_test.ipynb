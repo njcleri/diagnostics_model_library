{
 "cells": [
  {
   "cell_type": "code",
   "execution_count": 1,
   "metadata": {},
   "outputs": [
    {
     "name": "stdout",
     "output_type": "stream",
     "text": [
      "Folder ./models/v0.1 already exists\n"
     ]
    }
   ],
   "source": [
    "from nikkos_tools.cloudy_tools import cloudy_input_builder as cib\n",
    "from nikkos_tools import miscellaneous_functions as mf\n",
    "import numpy as np  \n",
    "import itertools\n",
    "import os\n",
    "MODEL_PATH = mf.make_directories('./models/v0.1')"
   ]
  },
  {
   "cell_type": "code",
   "execution_count": 2,
   "metadata": {},
   "outputs": [],
   "source": [
    "gas_metallicities = [0.00001]\n",
    "stellar_metallicities = np.round(np.log10(gas_metallicities), decimals=2)\n",
    "ages = [1e6]\n",
    "\n",
    "for i, j in enumerate(itertools.product(gas_metallicities, ages)):\n",
    "    z_gas = j[0]\n",
    "    z_star = np.log10(z_gas)\n",
    "    age = j[1]\n",
    "    stars = cib.CloudyModel()\n",
    "    stars.build_template_model_bpass(gas_metallicity=z_gas, stellar_metallicity=z_star, age=age)\n",
    "    stars.make_cloudy_in_file(path=MODEL_PATH)\n",
    "    \n",
    "cib.make_cloudy_executable(MODEL_PATH, 'cloudytest_v0')"
   ]
  },
  {
   "cell_type": "code",
   "execution_count": 7,
   "metadata": {},
   "outputs": [],
   "source": [
    "# gas_metallicities = [0.00001, 0.0001, 0.005, 0.01, 0.1, 0.15, 0.2, 0.25, 0.3, 0.4, 0.5, 0.7, 1, 1.5, 2]\n",
    "# stellar_metallicities = np.round(np.log10(gas_metallicities), decimals=2)\n",
    "# ages = [1e6, 3e6, 5e6, 1e7, 1e8, 1e9, 1e10]\n",
    "\n",
    "# for i, j in enumerate(itertools.product(gas_metallicities, ages)):\n",
    "#     z_gas = j[0]\n",
    "#     z_star = np.log10(z_gas)\n",
    "#     age = j[1]\n",
    "#     stars = cib.CloudyModel()\n",
    "#     stars.build_template_model_bpass(gas_metallicity=z_gas, stellar_metallicity=z_star, age=age)\n",
    "#     stars.make_cloudy_in_file(path=MODEL_PATH)"
   ]
  },
  {
   "cell_type": "code",
   "execution_count": null,
   "metadata": {},
   "outputs": [],
   "source": []
  }
 ],
 "metadata": {
  "kernelspec": {
   "display_name": "base",
   "language": "python",
   "name": "python3"
  },
  "language_info": {
   "codemirror_mode": {
    "name": "ipython",
    "version": 3
   },
   "file_extension": ".py",
   "mimetype": "text/x-python",
   "name": "python",
   "nbconvert_exporter": "python",
   "pygments_lexer": "ipython3",
   "version": "3.10.9"
  }
 },
 "nbformat": 4,
 "nbformat_minor": 2
}
