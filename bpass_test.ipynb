{
 "cells": [
  {
   "cell_type": "code",
   "execution_count": 82,
   "metadata": {},
   "outputs": [],
   "source": [
    "import numpy as np\n",
    "import matplotlib.pyplot as plt\n",
    "import os\n",
    "import pyCloudy as pc \n",
    "from itertools import chain\n",
    "\n",
    "# Tell pyCloudy where your cloudy executable is:\n",
    "pc.config.cloudy_exe = '/Users/alvis/Packages/c23.01/source/cloudy.exe'"
   ]
  },
  {
   "cell_type": "code",
   "execution_count": 87,
   "metadata": {},
   "outputs": [],
   "source": [
    "def make_model(dir_, model_name, dens, ab_O):\n",
    "    full_model_name = '{0}_{1:.0f}_{2:.2f}'.format(model_name, dens, ab_O)\n",
    "    r_min = 5e16\n",
    "    dist = 1.26\n",
    "    Teff = 45000\n",
    "    qH = 47.\n",
    "    options = ('no molecules',\n",
    "                'no level2 lines',\n",
    "                'no fine opacities',\n",
    "                'atom h-like levels small',\n",
    "                'atom he-like levels small',\n",
    "                'COSMIC RAY BACKGROUND',\n",
    "                'element limit off -8',\n",
    "                )\n",
    "    emis_tab = ['H  1  4861.33A',\n",
    "            'H  1  6562.81A',\n",
    "            'Ca B  5875.64A',\n",
    "            'N  2  6583.45A',\n",
    "            'O  1  6300.30A',\n",
    "            'O  2  3726.03A',\n",
    "            'O  2  3728.81A',\n",
    "            'O  3  5006.84A',\n",
    "            'BLND  4363.00A',\n",
    "            'S  2  6716.44A',\n",
    "            'S  2  6730.82A',\n",
    "            'Cl 3  5517.71A',\n",
    "            'Cl 3  5537.87A',\n",
    "            'O  1  63.1679m',\n",
    "            'O  1  145.495m',\n",
    "            'C  2  157.636m']\n",
    "    abund = {'He' : -0.92, 'C' : -3.15, 'N' : -4.0, 'Ne' : -4.00, \n",
    "             'S' : -5.35, 'Ar' : -5.80, 'Fe' : -7.4, 'Cl' : -7.00}\n",
    "    abund['O'] = ab_O\n",
    "    # Defining the object that will manage the input file for Cloudy\n",
    "    c_input = pc.CloudyInput('{0}{1}'.format(dir_, full_model_name))\n",
    "    # Filling the object with the parameters\n",
    "    # Defining the ionizing SED: Effective temperature and luminosity.\n",
    "    # The lumi_unit is one of the Cloudy options, like \"luminosity solar\", \"q(H)\", \"ionization parameter\", etc... \n",
    "    c_input.set_BB(Teff = Teff, lumi_unit = 'q(h)', lumi_value = qH)\n",
    "    # Defining the density. You may also use set_dlaw(parameters) if you have a density law defined in dense_fabden.cpp.\n",
    "    c_input.set_cste_density(dens)\n",
    "    # Defining the inner radius. A second parameter would be the outer radius (matter-bounded nebula).\n",
    "    c_input.set_radius(np.log10(r_min))\n",
    "    c_input.set_abund(ab_dict = abund, nograins = True)\n",
    "    c_input.set_other(options)\n",
    "    c_input.set_iterate() # (0) for no iteration, () for one iteration, (N) for N iterations.\n",
    "    c_input.set_sphere() # () or (True) : sphere, or (False): open geometry.\n",
    "    c_input.set_emis_tab(emis_tab)\n",
    "    c_input.set_distance(dist, 'kpc')\n",
    "    c_input.print_input(to_file = True, verbose = False)\n"
   ]
  },
  {
   "cell_type": "code",
   "execution_count": 91,
   "metadata": {},
   "outputs": [],
   "source": [
    "class CloudyModel:\n",
    "    \"\"\"For making Cloudy .in files\"\"\"\n",
    "    \n",
    "    def __init__(self, linelist='LineList_HII_NJC.dat', wavelength_units='angstroms'):\n",
    "        self.model = []\n",
    "        self.linelist = linelist\n",
    "        self.wavelength_units = wavelength_units\n",
    "        \n",
    "    def set_model_parameter(self, model_parameter):\n",
    "        self.model.append(model_parameter)\n",
    "    \n",
    "    def delete_model_parameter(self, model_parameter):\n",
    "        self.model = [item for item in self.model if item not in model_parameter]\n",
    "        \n",
    "    def add_grid(self, parameter, start, stop, step, initial_value=0):\n",
    "        self.set_model_parameter(f'{parameter} {initial_value} vary')\n",
    "        self.set_model_parameter(f'grid {start} to {stop} step {step}')\n",
    "        \n",
    "    def set_other(self, *args):\n",
    "        for arg in args:\n",
    "            self.set_model_parameter(f'{arg}')\n",
    "        \n",
    "    def set_sed(self, sed):\n",
    "        self.sed = sed\n",
    "        self.set_model_parameter(f'table SED \"{sed}\"')\n",
    "        \n",
    "    def set_star(self, sed, age, stellar_metallicity):\n",
    "        \"\"\"Note: this requires intensity/luminosity/ionization parameter to be set or else Cloudy will break\"\"\"\n",
    "        self.sed = f'{sed}_{age}_{stellar_metallicity}'\n",
    "        self.set_model_parameter(f'table star \"{sed}\" {age} {stellar_metallicity}')\n",
    "\n",
    "    def set_hden(self, hden):\n",
    "        \"\"\"Cloudy will break if there is no hden set\"\"\"\n",
    "        self.hden = hden\n",
    "        self.set_model_parameter(f'hden {hden}')\n",
    "    \n",
    "    def set_geometry(self, geometry):\n",
    "        self.geometry = geometry\n",
    "        self.set_model_parameter(f'{geometry}')\n",
    "        \n",
    "    def set_abundances(self, abundances, grains='no grains'):\n",
    "        self.abundances = abundances\n",
    "        self.set_model_parameter(f'abundances {abundances} {grains}')\n",
    "        \n",
    "    def set_grains(self, grains):\n",
    "        self.grains = grains\n",
    "        self.set_model_parameter(f'grains {grains}')\n",
    "        \n",
    "    def set_metals_and_grains(self, gas_metallicity):\n",
    "        self.gas_metallicity = gas_metallicity\n",
    "        self.set_model_parameter(f'metals and grains {gas_metallicity}')\n",
    "        \n",
    "    def set_element_scale_factor(self, element, element_scale_factor):\n",
    "        self.set_model_parameter(f'element scale factor {element} {element_scale_factor}')\n",
    "        \n",
    "    def save_overview(self):\n",
    "        self.set_model_parameter(f'save overview \".ovr\" last')\n",
    "        \n",
    "    def save_continuum(self):\n",
    "        self.set_model_parameter(f'save continuum units {self.wavelength_units} \".con\" last')\n",
    "    \n",
    "    def save_lines_emergent(self):\n",
    "        self.set_model_parameter(f'save linelist column emergent absolute last units {self.wavelength_units} \".elin\" \"{self.linelist}\"')\n",
    "        \n",
    "    def save_lines_intrinsic(self):\n",
    "        self.set_model_parameter(f'save linelist column intrinsic absolute last units {self.wavelength_units} \".elin\" \"{self.linelist}\"')\n",
    "        \n",
    "    def save_all(self):\n",
    "        self.save_overview()\n",
    "        self.save_continuum()\n",
    "        self.save_lines_emergent()\n",
    "        self.save_lines_intrinsic()\n",
    "        \n",
    "    def build_default_model(self, sed='NGC5548.sed', hden=2, abundances='gass10', grains='Orion', gas_metallicity=1.0):\n",
    "        self.model = []\n",
    "        self.set_sed(sed)\n",
    "        self.set_hden(hden)\n",
    "        self.set_abundances(abundances)\n",
    "        self.set_grains(grains)\n",
    "        self.set_metals_and_grains(gas_metallicity)\n",
    "        self.add_grid('ionization parameter', -4, -1, 0.25)\n",
    "        self.set_model_parameter('iterate_to_convergence')\n",
    "        self.save_all() \n",
    "        \n",
    "    def build_cleri_model(self, sed='NGC5548.sed', hden=2, abundances='gass10', grains='Orion', gas_metallicity=1.0, element_scale_factor_dict={}):\n",
    "        self.model = []\n",
    "        self.set_sed(sed)\n",
    "        self.set_hden(hden)\n",
    "        self.set_abundances(abundances)\n",
    "        self.set_grains(grains)\n",
    "        self.set_metals_and_grains(gas_metallicity)\n",
    "        for element in element_scale_factor_dict.keys():\n",
    "            self.set_element_scale_factor(element, element_scale_factor_dict.get(element))\n",
    "        self.add_grid('ionization parameter', -4, -1, 0.25)\n",
    "        self.set_model_parameter('iterate_to_convergence')\n",
    "        self.save_all()   \n",
    "        \n",
    "    def build_template_model_bpass(self, sed=\"BPASSv2.2.1_imf135_300_burst_binary.ascii\", age=1e7, stellar_metallicity=-1, \n",
    "                                  hden=2, abundances='gass10', grains='Orion', gas_metallicity=1.0, element_scale_factor_dict={}):\n",
    "        self.model = []\n",
    "        self.set_star(sed, age, stellar_metallicity)\n",
    "        self.set_hden(hden)\n",
    "        self.set_abundances(abundances)\n",
    "        self.set_grains(grains)\n",
    "        self.set_metals_and_grains(gas_metallicity)\n",
    "        for element in element_scale_factor_dict.keys():\n",
    "            self.set_element_scale_factor(element, element_scale_factor_dict.get(element))\n",
    "        self.add_grid('ionization parameter', -4, -1, 0.25)\n",
    "        self.set_model_parameter('iterate_to_convergence')\n",
    "        self.save_all()   \n",
    "        \n",
    "    def make_cloudy_in_file(self, path='.', use_params=True, comment=None):\n",
    "        if not use_params:\n",
    "            np.savetxt(f'{comment}.in', self.model, fmt='%s')\n",
    "            return \n",
    "        \n",
    "        if comment:\n",
    "            np.savetxt(f'{path}/{self.sed.partition(\".\")[0]}_hden{self.hden}_z{self.gas_metallicity}_{comment}.in', self.model, fmt='%s')\n",
    "        else:\n",
    "            np.savetxt(f'{path}/{self.sed.partition(\".\")[0]}_hden{self.hden}_z{self.gas_metallicity}.in', self.model, fmt='%s')"
   ]
  },
  {
   "cell_type": "code",
   "execution_count": 44,
   "metadata": {},
   "outputs": [],
   "source": [
    "x = CloudyModel()\n",
    "x.build_cleri_model(element_scale_factor_dict={'nitrogen':0.4,'oxygen':0.5})\n",
    "x.make_cloudy_in_file()"
   ]
  },
  {
   "cell_type": "code",
   "execution_count": 28,
   "metadata": {},
   "outputs": [],
   "source": [
    "d = {'nitrogen':0.4,\n",
    "     'oxygen':0.5}"
   ]
  },
  {
   "cell_type": "code",
   "execution_count": 87,
   "metadata": {},
   "outputs": [],
   "source": [
    "metallicities = [0.1, 0.2, 0.3]\n",
    "for i, z in enumerate(metallicities):\n",
    "    model = CloudyModel()\n",
    "    model.build_cleri_model(gas_metallicity=z)\n",
    "    model.make_cloudy_in_file()"
   ]
  },
  {
   "cell_type": "code",
   "execution_count": 86,
   "metadata": {},
   "outputs": [
    {
     "data": {
      "text/plain": [
       "['table SED \"NGC5548.sed\"',\n",
       " 'hden 2',\n",
       " 'abundances gass10 no grains',\n",
       " 'grains Orion',\n",
       " 'metals and grains 1.0',\n",
       " 'ionization parameter 0 vary',\n",
       " 'grid -4 to -1 step 0.25',\n",
       " 'iterate_to_convergence',\n",
       " 'save overview \".ovr\" last',\n",
       " 'save continuum units angstroms \".con\" last',\n",
       " 'save linelist column emergent absolute last units angstroms \".elin\" \"LineList_HII_NJC.dat\"',\n",
       " 'save linelist column intrinsic absolute last units angstroms \".elin\" \"LineList_HII_NJC.dat\"']"
      ]
     },
     "execution_count": 86,
     "metadata": {},
     "output_type": "execute_result"
    }
   ],
   "source": [
    "bpass = CloudyModel()\n",
    "bpass.build_cleri_model()\n",
    "bpass.model"
   ]
  },
  {
   "cell_type": "code",
   "execution_count": 81,
   "metadata": {},
   "outputs": [],
   "source": [
    "stars = CloudyModel()\n",
    "stars.set_model_parameter('table star \"BPASS2.2/BPASSv2.2.1_imf135_300_burst_binary.ascii\" 2e8 -1.8')\n",
    "stars.set_model_parameter('ionization parameter -2')\n",
    "stars.set_model_parameter('hden 2')\n",
    "stars.make_cloudy_in_file(use_params=False, comment='test_stars')"
   ]
  },
  {
   "cell_type": "code",
   "execution_count": 79,
   "metadata": {},
   "outputs": [
    {
     "data": {
      "text/plain": [
       "['table star \"BPASS2.2/BPASSv2.2.1_imf135_300_burst_binary.ascii\" 200000000.0 -1',\n",
       " 'hden 2']"
      ]
     },
     "execution_count": 79,
     "metadata": {},
     "output_type": "execute_result"
    }
   ],
   "source": [
    "stars = CloudyModel()\n",
    "stars.set_star(\"BPASS2.2/BPASSv2.2.1_imf135_300_burst_binary.ascii\", 2e8, -1)\n",
    "stars.set_hden(2)\n",
    "stars.make_cloudy_in_file(use_params=False, comment='available')"
   ]
  },
  {
   "cell_type": "code",
   "execution_count": 90,
   "metadata": {},
   "outputs": [
    {
     "data": {
      "text/plain": [
       "['table star \"BPASS2.2/BPASSv2.2.1_imf135_300_burst_binary.ascii\" 10000000.0 -1',\n",
       " 'hden 2',\n",
       " 'abundances gass10 no grains',\n",
       " 'grains Orion',\n",
       " 'metals and grains 1.0',\n",
       " 'ionization parameter 0 vary',\n",
       " 'grid -4 to -1 step 0.25',\n",
       " 'iterate_to_convergence',\n",
       " 'save overview \".ovr\" last',\n",
       " 'save continuum units angstroms \".con\" last',\n",
       " 'save linelist column emergent absolute last units angstroms \".elin\" \"LineList_HII_NJC.dat\"',\n",
       " 'save linelist column intrinsic absolute last units angstroms \".elin\" \"LineList_HII_NJC.dat\"']"
      ]
     },
     "execution_count": 90,
     "metadata": {},
     "output_type": "execute_result"
    }
   ],
   "source": [
    "stars = CloudyModel()\n",
    "stars.build_template_model_star()\n",
    "stars.model"
   ]
  },
  {
   "cell_type": "code",
   "execution_count": null,
   "metadata": {},
   "outputs": [],
   "source": []
  }
 ],
 "metadata": {
  "kernelspec": {
   "display_name": "base",
   "language": "python",
   "name": "python3"
  },
  "language_info": {
   "codemirror_mode": {
    "name": "ipython",
    "version": 3
   },
   "file_extension": ".py",
   "mimetype": "text/x-python",
   "name": "python",
   "nbconvert_exporter": "python",
   "pygments_lexer": "ipython3",
   "version": "3.10.9"
  }
 },
 "nbformat": 4,
 "nbformat_minor": 2
}
