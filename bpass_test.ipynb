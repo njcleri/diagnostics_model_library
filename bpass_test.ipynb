{
 "cells": [
  {
   "cell_type": "code",
   "execution_count": 1,
   "metadata": {},
   "outputs": [
    {
     "name": "stdout",
     "output_type": "stream",
     "text": [
      "Folder ./models/v0.2 created!\n"
     ]
    }
   ],
   "source": [
    "from nikkos_tools.cloudy_tools import cloudy_input_builder as cib\n",
    "from nikkos_tools.cloudy_tools import cloudy_slurm_builder as csb \n",
    "from nikkos_tools import miscellaneous_functions as mf\n",
    "import numpy as np  \n",
    "import itertools\n",
    "import glob\n",
    "MODEL_PATH = mf.make_directories('./models/v0.2')"
   ]
  },
  {
   "cell_type": "code",
   "execution_count": 28,
   "metadata": {},
   "outputs": [],
   "source": [
    "bpass_z_abs = np.array([0.00001, 0.0001, 0.001, 0.002, 0.003, 0.004, 0.005, 0.006, 0.008, 0.010, 0.014, 0.020, 0.040])\n",
    "bpass_z_sol = bpass_z_abs * 50\n",
    "bpass_ages = 10**np.arange(6.0, 11.1, 0.1)\n",
    "log_bpass_ages = np.log10(bpass_ages)"
   ]
  },
  {
   "cell_type": "code",
   "execution_count": 2,
   "metadata": {},
   "outputs": [
    {
     "name": "stderr",
     "output_type": "stream",
     "text": [
      "/Users/alvis/anaconda3/lib/python3.10/site-packages/nikkos_tools/cloudy_tools/cloudy_input_builder.py:35: RuntimeWarning: invalid value encountered in log10\n",
      "  z_absolute = np.log10(0.02*stellar_metallicity_solar)\n"
     ]
    }
   ],
   "source": [
    "gas_metallicities = [0.00001]\n",
    "stellar_metallicities = np.round(np.log10(gas_metallicities), decimals=2)\n",
    "ages = [1e6]\n",
    "\n",
    "for i, j in enumerate(itertools.product(gas_metallicities, ages)):\n",
    "    z_gas = j[0]\n",
    "    z_star = np.log10(z_gas)\n",
    "    age = j[1]\n",
    "    stars = cib.CloudyModel()\n",
    "    stars.build_template_model_bpass(gas_metallicity=z_gas, stellar_metallicity=z_star, age=age)\n",
    "    stars.make_cloudy_in_file(path=MODEL_PATH)\n",
    "    \n",
    "cib.make_cloudy_executable(MODEL_PATH, 'cloudytest_v0')"
   ]
  },
  {
   "cell_type": "code",
   "execution_count": 7,
   "metadata": {},
   "outputs": [],
   "source": [
    "# gas_metallicities = [0.00001, 0.0001, 0.005, 0.01, 0.1, 0.15, 0.2, 0.25, 0.3, 0.4, 0.5, 0.7, 1, 1.5, 2]\n",
    "# stellar_metallicities = np.round(np.log10(gas_metallicities), decimals=2)\n",
    "# ages = [1e6, 3e6, 5e6, 1e7, 1e8, 1e9, 1e10]\n",
    "\n",
    "# for i, j in enumerate(itertools.product(gas_metallicities, ages)):\n",
    "#     z_gas = j[0]\n",
    "#     z_star = np.log10(z_gas)\n",
    "#     age = j[1]\n",
    "#     stars = cib.CloudyModel()\n",
    "#     stars.build_template_model_bpass(gas_metallicity=z_gas, stellar_metallicity=z_star, age=age)\n",
    "#     stars.make_cloudy_in_file(path=MODEL_PATH)\n"
   ]
  },
  {
   "cell_type": "code",
   "execution_count": 2,
   "metadata": {},
   "outputs": [],
   "source": [
    "ngc = cib.CloudyModel()\n",
    "ngc.build_template_model_bpass()\n",
    "ngc.make_cloudy_in_file()"
   ]
  },
  {
   "cell_type": "code",
   "execution_count": 2,
   "metadata": {},
   "outputs": [],
   "source": [
    "job_name='ntasks_tests1'\n",
    "cloudy = csb.CloudySlurm()\n",
    "cloudy.build_default_slurm(job_name=job_name, output=job_name, time='02:00:00', cloudy_input=['NGC5548-1', 'NGC5548-4'], email='cleri@tamu.edu')\n",
    "cloudy.make_slurm()"
   ]
  },
  {
   "cell_type": "code",
   "execution_count": 3,
   "metadata": {},
   "outputs": [],
   "source": [
    "job_name='ntasks_tests2'\n",
    "cloudy = csb.CloudySlurm()\n",
    "cloudy.build_default_slurm(job_name=job_name, output=job_name, time='02:00:00', ntasks=2, cloudy_input=['NGC5548-1', 'NGC5548-4'], email='cleri@tamu.edu')\n",
    "cloudy.make_slurm()"
   ]
  },
  {
   "cell_type": "code",
   "execution_count": 4,
   "metadata": {},
   "outputs": [],
   "source": [
    "logU = np.arange(-4, -0.75, 0.25)"
   ]
  },
  {
   "cell_type": "code",
   "execution_count": 5,
   "metadata": {},
   "outputs": [
    {
     "data": {
      "text/plain": [
       "array([-4.  , -3.75, -3.5 , -3.25, -3.  , -2.75, -2.5 , -2.25, -2.  ,\n",
       "       -1.75, -1.5 , -1.25, -1.  ])"
      ]
     },
     "execution_count": 5,
     "metadata": {},
     "output_type": "execute_result"
    }
   ],
   "source": [
    "logU"
   ]
  },
  {
   "cell_type": "code",
   "execution_count": null,
   "metadata": {},
   "outputs": [],
   "source": [
    "job_name='ntasks_tests1'\n",
    "cloudy = csb.CloudySlurm()\n",
    "cloudy.build_default_slurm(job_name=job_name, output=job_name, time='02:00:00', cloudy_input=['NGC5548-1', 'NGC5548-4'], email='cleri@tamu.edu')\n",
    "cloudy.make_slurm()"
   ]
  },
  {
   "cell_type": "code",
   "execution_count": 2,
   "metadata": {},
   "outputs": [],
   "source": [
    "z_gas = 0.1\n",
    "z_star = np.round(z_gas, decimals=2)\n",
    "age = 1e7\n",
    "\n",
    "stars = cib.CloudyModel()\n",
    "stars.build_template_model_bpass(gas_metallicity=z_gas, stellar_metallicity=z_star, age=age)\n",
    "stars.make_cloudy_in_file()\n"
   ]
  },
  {
   "cell_type": "code",
   "execution_count": 3,
   "metadata": {},
   "outputs": [
    {
     "data": {
      "text/plain": [
       "-1.0"
      ]
     },
     "execution_count": 3,
     "metadata": {},
     "output_type": "execute_result"
    }
   ],
   "source": [
    "z_star"
   ]
  },
  {
   "cell_type": "code",
   "execution_count": 2,
   "metadata": {},
   "outputs": [],
   "source": [
    "logU = np.arange(-4, -0.75, 0.25)\n",
    "z_gas = 0.1\n",
    "z_star = np.round(z_gas, decimals=2)\n",
    "age = 1e7\n",
    "\n",
    "for U in logU: \n",
    "    stars = cib.CloudyModel()\n",
    "    stars.build_template_model_bpass(gas_metallicity=z_gas, stellar_metallicity=z_star, age=age, logU=U)\n",
    "    stars.make_cloudy_in_file(path=MODEL_PATH)"
   ]
  },
  {
   "cell_type": "code",
   "execution_count": 13,
   "metadata": {},
   "outputs": [
    {
     "data": {
      "text/plain": [
       "['./models/v0.2/BPASSv2.2.1_imf135_300_burst_binary.ascii_age7.0_zstar0.1_hden2_z0.1_logU-2.75.in',\n",
       " './models/v0.2/BPASSv2.2.1_imf135_300_burst_binary.ascii_age7.0_zstar0.1_hden2_z0.1_logU-2.25.in',\n",
       " './models/v0.2/BPASSv2.2.1_imf135_300_burst_binary.ascii_age7.0_zstar0.1_hden2_z0.1_logU-4.0.in',\n",
       " './models/v0.2/BPASSv2.2.1_imf135_300_burst_binary.ascii_age7.0_zstar0.1_hden2_z0.1_logU-2.5.in',\n",
       " './models/v0.2/BPASSv2.2.1_imf135_300_burst_binary.ascii_age7.0_zstar0.1_hden2_z0.1_logU-1.75.in',\n",
       " './models/v0.2/BPASSv2.2.1_imf135_300_burst_binary.ascii_age7.0_zstar0.1_hden2_z0.1_logU-3.0.in',\n",
       " './models/v0.2/BPASSv2.2.1_imf135_300_burst_binary.ascii_age7.0_zstar0.1_hden2_z0.1_logU-3.75.in',\n",
       " './models/v0.2/BPASSv2.2.1_imf135_300_burst_binary.ascii_age7.0_zstar0.1_hden2_z0.1_logU-3.25.in',\n",
       " './models/v0.2/BPASSv2.2.1_imf135_300_burst_binary.ascii_age7.0_zstar0.1_hden2_z0.1_logU-2.0.in',\n",
       " './models/v0.2/BPASSv2.2.1_imf135_300_burst_binary.ascii_age7.0_zstar0.1_hden2_z0.1_logU-3.5.in',\n",
       " './models/v0.2/BPASSv2.2.1_imf135_300_burst_binary.ascii_age7.0_zstar0.1_hden2_z0.1_logU-1.25.in',\n",
       " './models/v0.2/BPASSv2.2.1_imf135_300_burst_binary.ascii_age7.0_zstar0.1_hden2_z0.1_logU-1.0.in',\n",
       " './models/v0.2/BPASSv2.2.1_imf135_300_burst_binary.ascii_age7.0_zstar0.1_hden2_z0.1_logU-1.5.in']"
      ]
     },
     "execution_count": 13,
     "metadata": {},
     "output_type": "execute_result"
    }
   ],
   "source": [
    "fnames = glob.glob(f'{MODEL_PATH}/**.in')\n",
    "filenames = []\n",
    "for i,file in enumerate(fnames):\n",
    "    filenames.append(file.lstrip(f'{MODEL_PATH}').rstrip('.in'))"
   ]
  },
  {
   "cell_type": "code",
   "execution_count": 22,
   "metadata": {},
   "outputs": [],
   "source": [
    "job_name='bpass_test'\n",
    "cloudy = csb.CloudySlurm()\n",
    "cloudy.build_default_slurm(job_name=job_name, output=job_name, time='02:00:00', cloudy_input=filenames, email='cleri@tamu.edu')\n",
    "cloudy.make_slurm(MODEL_PATH)"
   ]
  },
  {
   "cell_type": "code",
   "execution_count": null,
   "metadata": {},
   "outputs": [],
   "source": []
  }
 ],
 "metadata": {
  "kernelspec": {
   "display_name": "base",
   "language": "python",
   "name": "python3"
  },
  "language_info": {
   "codemirror_mode": {
    "name": "ipython",
    "version": 3
   },
   "file_extension": ".py",
   "mimetype": "text/x-python",
   "name": "python",
   "nbconvert_exporter": "python",
   "pygments_lexer": "ipython3",
   "version": "3.10.9"
  }
 },
 "nbformat": 4,
 "nbformat_minor": 2
}
