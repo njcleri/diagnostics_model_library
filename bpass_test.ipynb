{
 "cells": [
  {
   "cell_type": "code",
   "execution_count": 4,
   "metadata": {},
   "outputs": [],
   "source": [
    "import cloudy_input_builder as cib"
   ]
  },
  {
   "cell_type": "code",
   "execution_count": 5,
   "metadata": {},
   "outputs": [],
   "source": [
    "x = cib.CloudyModel()\n",
    "x.build_cleri_model(element_scale_factor_dict={'nitrogen':0.4,'oxygen':0.5})\n",
    "x.make_cloudy_in_file()"
   ]
  },
  {
   "cell_type": "code",
   "execution_count": 6,
   "metadata": {},
   "outputs": [],
   "source": [
    "metallicities = [0.1, 0.2, 0.3]\n",
    "for i, z in enumerate(metallicities):\n",
    "    model = cib.CloudyModel()\n",
    "    model.build_cleri_model(gas_metallicity=z)\n",
    "    model.make_cloudy_in_file()"
   ]
  },
  {
   "cell_type": "code",
   "execution_count": 7,
   "metadata": {},
   "outputs": [
    {
     "data": {
      "text/plain": [
       "['table star \"BPASSv2.2.1_imf135_300_burst_binary.ascii\" 10000000.0 -1',\n",
       " 'hden 2',\n",
       " 'abundances gass10 no grains',\n",
       " 'grains Orion',\n",
       " 'metals and grains 1.0',\n",
       " 'ionization parameter 0 vary',\n",
       " 'grid -4 to -1 step 0.25',\n",
       " 'iterate_to_convergence',\n",
       " 'save overview \".ovr\" last',\n",
       " 'save continuum units angstroms \".con\" last',\n",
       " 'save linelist column emergent absolute last units angstroms \".elin\" \"LineList_HII_NJC.dat\"',\n",
       " 'save linelist column intrinsic absolute last units angstroms \".elin\" \"LineList_HII_NJC.dat\"']"
      ]
     },
     "execution_count": 7,
     "metadata": {},
     "output_type": "execute_result"
    }
   ],
   "source": [
    "stars = cib.CloudyModel()\n",
    "stars.build_template_model_bpass()\n",
    "stars.model"
   ]
  },
  {
   "cell_type": "code",
   "execution_count": null,
   "metadata": {},
   "outputs": [],
   "source": []
  }
 ],
 "metadata": {
  "kernelspec": {
   "display_name": "base",
   "language": "python",
   "name": "python3"
  },
  "language_info": {
   "codemirror_mode": {
    "name": "ipython",
    "version": 3
   },
   "file_extension": ".py",
   "mimetype": "text/x-python",
   "name": "python",
   "nbconvert_exporter": "python",
   "pygments_lexer": "ipython3",
   "version": "3.10.9"
  }
 },
 "nbformat": 4,
 "nbformat_minor": 2
}
